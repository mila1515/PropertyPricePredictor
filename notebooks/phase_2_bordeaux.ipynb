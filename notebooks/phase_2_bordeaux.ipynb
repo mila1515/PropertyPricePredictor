{
 "cells": [
  {
   "cell_type": "markdown",
   "metadata": {},
   "source": [
    "1. Chargement des données de Bordeaux"
   ]
  },
  {
   "cell_type": "code",
   "execution_count": 7,
   "metadata": {},
   "outputs": [],
   "source": [
    "# 📦 Imports (si pas déjà faits)\n",
    "import pandas as pd\n",
    "import numpy as np\n",
    "from sklearn.metrics import mean_squared_error\n",
    "import matplotlib.pyplot as plt\n",
    "import pickle\n",
    "import os\n"
   ]
  },
  {
   "cell_type": "code",
   "execution_count": 8,
   "metadata": {},
   "outputs": [
    {
     "name": "stdout",
     "output_type": "stream",
     "text": [
      "Résultats Appartements :\n",
      "LinearRegression: MSE=562941695.8564, RMSE=23726.3924, R2=-2.1429\n",
      "DecisionTree: MSE=363498251.1391, RMSE=19065.6301, R2=-1.0294\n",
      "RandomForest: MSE=210173841.6200, RMSE=14497.3736, R2=-0.1734\n",
      "DecisionTree_Optimized: MSE=254473687.4880, RMSE=15952.2314, R2=-0.4207\n",
      "RandomForest_Optimized: MSE=210173841.6200, RMSE=14497.3736, R2=-0.1734\n",
      "XGBoost: MSE=253394836.2934, RMSE=15918.3805, R2=-0.4147\n",
      "\n",
      "Résultats Maisons :\n",
      "LinearRegression: MSE=12410485.9232, RMSE=3522.8520, R2=-1.2391\n",
      "DecisionTree: MSE=13458818.9784, RMSE=3668.6263, R2=-1.4282\n",
      "RandomForest: MSE=12093062.5621, RMSE=3477.5081, R2=-1.1818\n",
      "DecisionTree_Optimized: MSE=12578783.8840, RMSE=3546.6581, R2=-1.2694\n",
      "RandomForest_Optimized: MSE=12058202.9212, RMSE=3472.4923, R2=-1.1755\n",
      "XGBoost: MSE=13100248.7718, RMSE=3619.4266, R2=-1.3635\n"
     ]
    }
   ],
   "source": [
    "import pandas as pd\n",
    "import numpy as np\n",
    "import joblib\n",
    "from sklearn.metrics import mean_squared_error, r2_score\n",
    "\n",
    "# Charger le bundle complet\n",
    "models_bundle = joblib.load('../models/model_lille.pkl')\n",
    "\n",
    "# Charger scalers\n",
    "scaler_X_appart = joblib.load('../models/scaler_X_appart.pkl')\n",
    "scaler_y_appart = joblib.load('../models/scaler_y_appart.pkl')\n",
    "scaler_X_maison = joblib.load('../models/scaler_X_maison.pkl')\n",
    "scaler_y_maison = joblib.load('../models/scaler_y_maison.pkl')\n",
    "\n",
    "# Extraire dictionnaires de modèles\n",
    "models_appart = models_bundle['models_appart']\n",
    "models_maison = models_bundle['models_maison']\n",
    "\n",
    "# Charger données Bordeaux\n",
    "df = pd.read_csv('../data/bordeaux_2022.csv')\n",
    "\n",
    "# Calcul prix_m2\n",
    "df['prix_m2'] = df['Valeur fonciere'] / df['Surface reelle bati']\n",
    "\n",
    "# Filtrer logements 4 pièces\n",
    "df = df[df['Nombre pieces principales'] == 4].copy()\n",
    "\n",
    "# Colonnes utiles (exclure \"Maison\" des features car pas dans scaler)\n",
    "features = ['Surface reelle bati', 'Nombre de lots', 'Surface terrain']\n",
    "\n",
    "# Nettoyer NaN\n",
    "df = df.dropna(subset=features + ['prix_m2', 'Type local'])\n",
    "\n",
    "# Séparer appartements et maisons\n",
    "df_appart = df[df['Type local'] == 'Appartement']\n",
    "df_maison = df[df['Type local'] == 'Maison']\n",
    "\n",
    "def prepare_X(df_sub, scaler_X):\n",
    "    X = df_sub[features]\n",
    "    return scaler_X.transform(X)\n",
    "\n",
    "def prepare_y(df_sub, scaler_y):\n",
    "    y_true = df_sub['prix_m2'].values.reshape(-1, 1)\n",
    "    y_scaled = scaler_y.transform(y_true)\n",
    "    return y_true, y_scaled\n",
    "\n",
    "def evaluate(y_true, y_pred):\n",
    "    mse = mean_squared_error(y_true, y_pred)\n",
    "    rmse = np.sqrt(mse)\n",
    "    r2 = r2_score(y_true, y_pred)\n",
    "    return mse, rmse, r2\n",
    "\n",
    "# Préparation données appartement\n",
    "X_appart = prepare_X(df_appart, scaler_X_appart)\n",
    "y_appart_true, _ = prepare_y(df_appart, scaler_y_appart)\n",
    "\n",
    "# Préparation données maison\n",
    "X_maison = prepare_X(df_maison, scaler_X_maison)\n",
    "y_maison_true, _ = prepare_y(df_maison, scaler_y_maison)\n",
    "\n",
    "# Fonction pour tester tous les modèles et stocker résultats\n",
    "def test_models(models_dict, X, y_true, scaler_y):\n",
    "    results = {}\n",
    "    for name, model in models_dict.items():\n",
    "        y_pred_scaled = model.predict(X)\n",
    "        y_pred = scaler_y.inverse_transform(y_pred_scaled.reshape(-1, 1))\n",
    "        mse, rmse, r2 = evaluate(y_true, y_pred)\n",
    "        results[name] = {'MSE': mse, 'RMSE': rmse, 'R2': r2}\n",
    "    return results\n",
    "\n",
    "# Tester tous les modèles appartements\n",
    "results_appart = test_models(models_appart, X_appart, y_appart_true, scaler_y_appart)\n",
    "\n",
    "# Tester tous les modèles maisons\n",
    "results_maison = test_models(models_maison, X_maison, y_maison_true, scaler_y_maison)\n",
    "\n",
    "# Afficher résultats\n",
    "print(\"Résultats Appartements :\")\n",
    "for model_name, metrics in results_appart.items():\n",
    "    print(f\"{model_name}: MSE={metrics['MSE']:.4f}, RMSE={metrics['RMSE']:.4f}, R2={metrics['R2']:.4f}\")\n",
    "\n",
    "print(\"\\nRésultats Maisons :\")\n",
    "for model_name, metrics in results_maison.items():\n",
    "    print(f\"{model_name}: MSE={metrics['MSE']:.4f}, RMSE={metrics['RMSE']:.4f}, R2={metrics['R2']:.4f}\")\n"
   ]
  },
  {
   "cell_type": "markdown",
   "metadata": {},
   "source": [
    "# Résumé des résultats\n",
    "\n",
    "Les modèles ont été entraînés sur des données immobilières de Lille, puis testés sur des données de Bordeaux.\n",
    "\n",
    "- Pour les **appartements**, tous les modèles affichent un score R² négatif, ce qui signifie que leurs prédictions sont moins fiables qu’une estimation naïve (comme la moyenne). Le modèle RandomForest est le plus performant, mais reste insuffisant.\n",
    "\n",
    "- Pour les **maisons**, la situation est similaire : les erreurs sont plus faibles que pour les appartements, mais le R² reste négatif pour tous les modèles, indiquant une mauvaise capacité à généraliser à Bordeaux.\n",
    "\n",
    "**Conclusion :**  \n",
    "Le transfert des modèles de Lille vers Bordeaux ne fonctionne pas bien. Cela montre que les marchés immobiliers sont trop différents entre ces deux villes, et que le modèle ne parvient pas à capturer ces différences. Pour obtenir de bons résultats, il faudra entraîner ou ajuster les modèles directement avec des données locales bordelaises.\n",
    "\n",
    "\n"
   ]
  },
  {
   "cell_type": "code",
   "execution_count": 9,
   "metadata": {},
   "outputs": [
    {
     "name": "stdout",
     "output_type": "stream",
     "text": [
      "✅ Bundle Bordeaux sauvegardé dans : '../models/model_bordeaux_best_2.pkl'\n"
     ]
    }
   ],
   "source": [
    "import pickle\n",
    "\n",
    "# ✅ Choix manuels des meilleurs modèles selon les résultats\n",
    "best_model_appart_name = 'RandomForest'  # ou 'RandomForest_Optimised'\n",
    "best_model_maison_name = 'LinearRegression'  #\n",
    "\n",
    "# ✅ Récupération des meilleurs modèles dans les dictionnaires\n",
    "best_model_appart = models_appart[best_model_appart_name]\n",
    "best_model_maison = models_maison[best_model_maison_name]\n",
    "\n",
    "# ✅ Récupération des résultats correspondants\n",
    "best_results_appart = results_appart[best_model_appart_name]\n",
    "best_results_maison = results_maison[best_model_maison_name]\n",
    "\n",
    "# ✅ Création du bundle à sauvegarder\n",
    "bordeaux_bundle = {\n",
    "    'best_model_appart': best_model_appart,\n",
    "    'best_model_maison': best_model_maison,\n",
    "    'scaler_X_appart_lille': scaler_X_appart,\n",
    "    'scaler_y_appart_lille': scaler_y_appart,\n",
    "    'scaler_X_maison_lille': scaler_X_maison,\n",
    "    'scaler_y_maison_lille': scaler_y_maison,\n",
    "    'features': features,\n",
    "    'results_appart': best_results_appart,\n",
    "    'results_maison': best_results_maison,\n",
    "     'best_model_appart': best_model_appart,\n",
    "    'best_model_maison': best_model_maison,\n",
    "    'scaler_X_appart_bx': scaler_X_appart,\n",
    "    'scaler_y_appart_bx': scaler_y_appart,\n",
    "    'scaler_X_maison_bx': scaler_X_maison,\n",
    "    'scaler_y_maison_bx': scaler_y_maison,\n",
    "}\n",
    "\n",
    "# ✅ Sauvegarde dans un fichier .pkl\n",
    "with open('../models/model_bordeaux_best_2.pkl', 'wb') as f:\n",
    "    pickle.dump(bordeaux_bundle, f)\n",
    "\n",
    "print(\"✅ Bundle Bordeaux sauvegardé dans : '../models/model_bordeaux_best_2.pkl'\")\n",
    "\n"
   ]
  },
  {
   "cell_type": "code",
   "execution_count": 10,
   "metadata": {},
   "outputs": [
    {
     "name": "stdout",
     "output_type": "stream",
     "text": [
      "dict_keys(['best_model_appart', 'best_model_maison', 'scaler_X_appart_lille', 'scaler_y_appart_lille', 'scaler_X_maison_lille', 'scaler_y_maison_lille', 'features', 'results_appart', 'results_maison', 'scaler_X_appart_bx', 'scaler_y_appart_bx', 'scaler_X_maison_bx', 'scaler_y_maison_bx'])\n"
     ]
    }
   ],
   "source": [
    "import joblib\n",
    "\n",
    "bordeaux_bundle = joblib.load('../models/model_bordeaux_best_2.pkl')\n",
    "print(bordeaux_bundle.keys())  # Affiche toutes les clés disponibles\n"
   ]
  }
 ],
 "metadata": {
  "kernelspec": {
   "display_name": "Python 3",
   "language": "python",
   "name": "python3"
  },
  "language_info": {
   "codemirror_mode": {
    "name": "ipython",
    "version": 3
   },
   "file_extension": ".py",
   "mimetype": "text/x-python",
   "name": "python",
   "nbconvert_exporter": "python",
   "pygments_lexer": "ipython3",
   "version": "3.10.11"
  }
 },
 "nbformat": 4,
 "nbformat_minor": 2
}
